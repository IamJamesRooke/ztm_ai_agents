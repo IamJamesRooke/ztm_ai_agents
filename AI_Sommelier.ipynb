{
  "nbformat": 4,
  "nbformat_minor": 0,
  "metadata": {
    "colab": {
      "provenance": [],
      "mount_file_id": "1e9dgwFs7fo2Yczg1DDRWo-FvVvMfGBWI",
      "authorship_tag": "ABX9TyP7TIJh9Ds3sos58OeI/XjX",
      "include_colab_link": true
    },
    "kernelspec": {
      "name": "python3",
      "display_name": "Python 3"
    },
    "language_info": {
      "name": "python"
    }
  },
  "cells": [
    {
      "cell_type": "markdown",
      "metadata": {
        "id": "view-in-github",
        "colab_type": "text"
      },
      "source": [
        "<a href=\"https://colab.research.google.com/github/IamJamesRooke/ztm_ai_agents/blob/master/AI_Sommelier.ipynb\" target=\"_parent\"><img src=\"https://colab.research.google.com/assets/colab-badge.svg\" alt=\"Open In Colab\"/></a>"
      ]
    },
    {
      "cell_type": "code",
      "execution_count": 8,
      "metadata": {
        "id": "ro6i7K1yS4MF"
      },
      "outputs": [],
      "source": [
        "!pip install openai-agents -q"
      ]
    },
    {
      "cell_type": "code",
      "source": [
        "%cd /content/drive/MyDrive/ZTM AI Agents Course/AI Sommelier"
      ],
      "metadata": {
        "colab": {
          "base_uri": "https://localhost:8080/"
        },
        "id": "ldvRbevZTdf4",
        "outputId": "825aecd4-e509-4cc4-82ca-231908304837"
      },
      "execution_count": 9,
      "outputs": [
        {
          "output_type": "stream",
          "name": "stdout",
          "text": [
            "/content/drive/MyDrive/ZTM AI Agents Course/AI Sommelier\n"
          ]
        }
      ]
    },
    {
      "cell_type": "code",
      "source": [
        "from google.colab import userdata\n",
        "import os\n",
        "\n",
        "os.environ['OPENAI_API_KEY'] = userdata.get('ai_agents_openai')"
      ],
      "metadata": {
        "id": "U2F6vfJATwA8"
      },
      "execution_count": 10,
      "outputs": []
    },
    {
      "cell_type": "code",
      "source": [
        "import asyncio\n",
        "from uuid import uuid4\n",
        "\n",
        "from openai import OpenAI\n",
        "from agents import (\n",
        "    Agent,\n",
        "    Runner,\n",
        "    trace,\n",
        "    ItemHelpers,\n",
        "    MessageOutputItem,\n",
        "    HandoffOutputItem,\n",
        "    FileSearchTool,\n",
        "    function_tool,\n",
        ")\n",
        "from agents.extensions.handoff_prompt import RECOMMENDED_PROMPT_PREFIX\n",
        "\n",
        "client = OpenAI()"
      ],
      "metadata": {
        "id": "SsLYa5G2T7cM"
      },
      "execution_count": 11,
      "outputs": []
    },
    {
      "cell_type": "markdown",
      "source": [
        "Uploading the file to the OpenAI API (`https://platform.openai.com/storage`), because it's a pdf, needs read-binary `(rb)` and have to declare its purpose."
      ],
      "metadata": {
        "id": "j6VcUDlI_Df8"
      }
    },
    {
      "cell_type": "code",
      "source": [
        "# Upload the file once, reuse everywhere\n",
        "path = \"/content/drive/MyDrive/ZTM AI Agents Course/AI Sommelier/Vinhos baba d_urso.pdf\"\n",
        "upload = client.files.create(\n",
        "    file=open(path, \"rb\"),\n",
        "    purpose=\"assistants\",\n",
        ")"
      ],
      "metadata": {
        "id": "l_bLu6rkUd7u"
      },
      "execution_count": 23,
      "outputs": []
    },
    {
      "cell_type": "code",
      "source": [
        "upload"
      ],
      "metadata": {
        "id": "AvOt5phfVEEp",
        "colab": {
          "base_uri": "https://localhost:8080/"
        },
        "outputId": "03699f24-613d-452c-8403-f4680e1967d6"
      },
      "execution_count": 24,
      "outputs": [
        {
          "output_type": "execute_result",
          "data": {
            "text/plain": [
              "FileObject(id='file-3wiS8B8ZFyC36fkKtsv2Cg', bytes=86584, created_at=1756927337, filename='Vinhos baba d_urso.pdf', object='file', purpose='assistants', status='processed', expires_at=None, status_details=None)"
            ]
          },
          "metadata": {},
          "execution_count": 24
        }
      ]
    },
    {
      "cell_type": "code",
      "source": [
        "vs_file = client.vector_stores.files.create(\n",
        "    vector_store_id = 'vs_68b89400837c8191a426bf1dd5605e5c',\n",
        "    file_id = upload.id\n",
        ")"
      ],
      "metadata": {
        "id": "9xlM1CLm_7sB"
      },
      "execution_count": 26,
      "outputs": []
    },
    {
      "cell_type": "markdown",
      "source": [
        "# AI Sommelier Agent"
      ],
      "metadata": {
        "id": "Ml9Bm48DCjX0"
      }
    },
    {
      "cell_type": "code",
      "source": [
        "# Define the instructions\n",
        "RECOMMENDED_PROMPT_PREFIX"
      ],
      "metadata": {
        "colab": {
          "base_uri": "https://localhost:8080/",
          "height": 87
        },
        "id": "5-2I7hOXC8Cq",
        "outputId": "21396037-d94f-40fb-f2c2-f859950ad71d"
      },
      "execution_count": 29,
      "outputs": [
        {
          "output_type": "execute_result",
          "data": {
            "text/plain": [
              "'# System context\\nYou are part of a multi-agent system called the Agents SDK, designed to make agent coordination and execution easy. Agents uses two primary abstraction: **Agents** and **Handoffs**. An agent encompasses instructions and tools and can hand off a conversation to another agent when appropriate. Handoffs are achieved by calling a handoff function, generally named `transfer_to_<agent_name>`. Transfers between agents are handled seamlessly in the background; do not mention or draw attention to these transfers in your conversation with the user.\\n'"
            ],
            "application/vnd.google.colaboratory.intrinsic+json": {
              "type": "string"
            }
          },
          "metadata": {},
          "execution_count": 29
        }
      ]
    },
    {
      "cell_type": "code",
      "source": [
        "instructions = f\"\"\"{RECOMMENDED_PROMPT_PREFIX}\n",
        "You are the restaurant Bitte's AI Sommelier:\n",
        "Your task is to provide the user with a wine recommendation for their dish.\n",
        "Use FileSearchTool to pick up to 3 wines from the vector store.\n",
        "If the interaction has nothing to do with the wine, do the handoff.\n",
        "\"\"\"\n",
        "\n",
        "vs_id = \"vs_68b89400837c8191a426bf1dd5605e5c\""
      ],
      "metadata": {
        "id": "xxJBQVQ_DoB1"
      },
      "execution_count": 31,
      "outputs": []
    },
    {
      "cell_type": "code",
      "source": [
        "# Define escalate to boss function\n",
        "@function_tool(\n",
        "    name_override = \"escalate_to_boss\",\n",
        "    description_override=\"Escalate to the boss if guest talks about wine.\")\n",
        "\n",
        "async def escalate_to_boss(request: str) -> str:\n",
        "  print(f\"Escalating to boss: {request}\")\n",
        "  return \"Boss will be here soon.\""
      ],
      "metadata": {
        "id": "llNZ-cKGEv8s"
      },
      "execution_count": 35,
      "outputs": []
    },
    {
      "cell_type": "code",
      "source": [],
      "metadata": {
        "id": "EUls2hwVH9yO"
      },
      "execution_count": 35,
      "outputs": []
    },
    {
      "cell_type": "code",
      "source": [
        "sommelier = Agent(\n",
        "    name = \"Bitte AI Sommelier\",\n",
        "    model = \"gpt-4.1-mini\",\n",
        "    instructions = instructions,\n",
        "    tools = [\n",
        "        FileSearchTool(vector_store_ids = [vs_id], max_num_results = 3),\n",
        "        escalate_to_boss\n",
        "    ]\n",
        ")"
      ],
      "metadata": {
        "id": "32YcdEB5B11j"
      },
      "execution_count": 36,
      "outputs": []
    },
    {
      "cell_type": "code",
      "source": [
        "# Build the chat interactions\n",
        "async def chat():\n",
        "\n",
        "  # store conversation\n",
        "  history = []\n",
        "\n",
        "  # while loop\n",
        "  while True:\n",
        "    user = input(\"User: \")\n",
        "    if user.lower() in {\"exit\", \"quit\", \"q\"}:\n",
        "      break\n",
        "\n",
        "    history.append({\"role\": \"user\", \"content\": user})\n",
        "\n",
        "    # Apply tracing to the conversation\n",
        "    with trace(\"Bitte Sommelier\", group_id = uuid4().hex):\n",
        "      run = await Runner.run(sommelier, history)\n",
        "\n",
        "    stop_chat = False\n",
        "\n",
        "    for itm in run.new_items:\n",
        "      if isinstance(itm, MessageOutputItem):\n",
        "        print(\"Sommelier\", ItemHelpers.text_message_output(itm))\n",
        "\n",
        "      elif isinstance(itm, HandoffOutputItem):\n",
        "        print(\"Boss was summoned.\")\n",
        "        stop_chat = True\n",
        "\n",
        "    if stop_chat:\n",
        "      break\n",
        "\n",
        "    history = run.to_input_list()\n",
        "\n",
        "# Run the chat\n",
        "await chat()"
      ],
      "metadata": {
        "colab": {
          "base_uri": "https://localhost:8080/"
        },
        "id": "n450KmJ8CcML",
        "outputId": "c074ebe4-c663-467f-96f8-fc606ea4c2b1"
      },
      "execution_count": 39,
      "outputs": [
        {
          "name": "stdout",
          "output_type": "stream",
          "text": [
            "User: What pairs well with a shit flavored ice cream cone?\n",
            "Sommelier A \"shit flavored\" ice cream cone is a very unusual and strong flavor. For something with an intense or offbeat flavor profile, I would generally recommend wines that can either contrast or complement the experience:\n",
            "\n",
            "1. A sparkling wine or Champagne - The bubbles and acidity will help cleanse the palate after each bite, cutting through strong flavors.\n",
            "2. A crisp and acidic white wine such as a Sauvignon Blanc or Alvarinho - These wines have citrus and herbal notes that can refresh the palate.\n",
            "3. A light and fruity rosé - The bright fruit flavors and moderate acidity help balance something heavy or unpleasant.\n",
            "\n",
            "From the list available, some options that could potentially work include:\n",
            "- Espumante V. Lafayette Blanc de Blancs (sparkling Chardonnay)\n",
            "- Branco Minho e Douro Litoral Alvarinho Palácio da Brejoeira\n",
            "- Rosé França Chateau Roubine Premium (Grenache, Cinsault)\n",
            "\n",
            "These wines are generally fresh, high in acidity, and light-bodied, which are good traits to pair with challenging or unusual flavors like your described ice cream cone flavor. Please note this is an unusual request and no classic pairing exists for such a flavor.\n",
            "\n",
            "If you want, I can suggest specific bottles from the list I found for you. Would you like me to?\n",
            "User: q\n"
          ]
        }
      ]
    },
    {
      "cell_type": "code",
      "source": [],
      "metadata": {
        "id": "hg9xtIfaHvQy"
      },
      "execution_count": null,
      "outputs": []
    }
  ]
}