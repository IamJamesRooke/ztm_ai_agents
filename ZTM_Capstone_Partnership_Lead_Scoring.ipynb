{
  "nbformat": 4,
  "nbformat_minor": 0,
  "metadata": {
    "colab": {
      "provenance": [],
      "toc_visible": true,
      "authorship_tag": "ABX9TyOD5ZToirnDLpG7/XNf+0S+",
      "include_colab_link": true
    },
    "kernelspec": {
      "name": "python3",
      "display_name": "Python 3"
    },
    "language_info": {
      "name": "python"
    }
  },
  "cells": [
    {
      "cell_type": "markdown",
      "metadata": {
        "id": "view-in-github",
        "colab_type": "text"
      },
      "source": [
        "<a href=\"https://colab.research.google.com/github/IamJamesRooke/ztm_ai_agents/blob/master/ZTM_Capstone_Partnership_Lead_Scoring.ipynb\" target=\"_parent\"><img src=\"https://colab.research.google.com/assets/colab-badge.svg\" alt=\"Open In Colab\"/></a>"
      ]
    },
    {
      "cell_type": "markdown",
      "source": [
        "# Setup"
      ],
      "metadata": {
        "id": "rjIjmcf0t4Mj"
      }
    },
    {
      "cell_type": "code",
      "execution_count": null,
      "metadata": {
        "id": "uwNfXz_QsQZ7"
      },
      "outputs": [],
      "source": [
        "# !pip install 'crewai[tools]' -q\n",
        "# !pip install youtube-transcript-api -q"
      ]
    },
    {
      "cell_type": "code",
      "source": [
        "from google.colab import userdata\n",
        "openai_api_key = userdata.get('ai_agents_openai')\n",
        "serper_api_key = userdata.get('serper_api')"
      ],
      "metadata": {
        "id": "BW54uDqXsd81"
      },
      "execution_count": null,
      "outputs": []
    },
    {
      "cell_type": "code",
      "source": [
        "import os\n",
        "os.environ['OPENAI_API_KEY'] = openai_api_key\n",
        "os.environ['SERPER_API_KEY'] = serper_api_key"
      ],
      "metadata": {
        "id": "GcRPs4AEsrOg"
      },
      "execution_count": null,
      "outputs": []
    },
    {
      "cell_type": "code",
      "source": [
        "from crewai import Agent, Crew, Process, Task\n",
        "from langchain_openai import ChatOpenAI\n",
        "from IPython.display import display, Markdown\n",
        "from crewai_tools import ScrapeWebsiteTool, SerperDevTool, YoutubeChannelSearchTool, YoutubeVideoSearchTool\n",
        "from pydantic import BaseModel"
      ],
      "metadata": {
        "id": "H2gDX7DysxNc"
      },
      "execution_count": null,
      "outputs": []
    },
    {
      "cell_type": "code",
      "source": [
        "llm = ChatOpenAI(model_name='gpt-4o', temperature=0)"
      ],
      "metadata": {
        "id": "7-MZG9fGt3SU"
      },
      "execution_count": null,
      "outputs": []
    },
    {
      "cell_type": "markdown",
      "source": [
        "# Data Inputs"
      ],
      "metadata": {
        "id": "wr7kpv2tuESF"
      }
    },
    {
      "cell_type": "code",
      "source": [
        "brand_info = {\n",
        "    \"name\": \"Zero to Mastery\",\n",
        "    \"description\": \"An online tech academy that offers comprehensive courses and a community for learners seeking in-demand software and tech skills.\",\n",
        "    \"brand_values\": \"Quality education, community-driven growth, career-focused learning, and up-to-date tech stacks.\",\n",
        "    \"ideal_partner\": \"A YouTube channel focused on programming, software engineering, or tech career advice with an audience of motivated learners.\"\n",
        "}"
      ],
      "metadata": {
        "id": "_bPgo2t5uDHV"
      },
      "execution_count": null,
      "outputs": []
    },
    {
      "cell_type": "code",
      "source": [
        "# Define a single YouTube lead for demonstration\n",
        "youtube_lead = {\n",
        "    \"name\": \"Theo - t3․gg\",\n",
        "    \"channel_url\": \"https://www.youtube.com/@t3dotgg\"\n",
        "}"
      ],
      "metadata": {
        "id": "juYuqTxku4op"
      },
      "execution_count": null,
      "outputs": []
    },
    {
      "cell_type": "markdown",
      "source": [
        "# Research"
      ],
      "metadata": {
        "id": "CUgSoZZiu5_v"
      }
    },
    {
      "cell_type": "code",
      "source": [
        "# Build Research Agent\n",
        "research_agent = Agent(\n",
        "    role=\"YouTube Influencer Researcher\",\n",
        "    goal =\n",
        "    f\"\"\"\n",
        "    Research the YouTube Channel {youtube_lead['name']} on url {youtube_lead['channel_url']}\n",
        "    to assess suitability with {brand_info['name']}'s brand values: {brand_info['brand_values']}.\n",
        "    \"\"\",\n",
        "    backstory= f\"You are an expert in Influencer partnerships with channels with these ideal characteristics: {brand_info['ideal_partner']}.\",\n",
        "    llm =llm,\n",
        "    tools = [\n",
        "        SerperDevTool(),\n",
        "        ScrapeWebsiteTool(),\n",
        "        YoutubeVideoSearchTool(),\n",
        "        YoutubeChannelSearchTool(),\n",
        "    ]\n",
        ")"
      ],
      "metadata": {
        "id": "2iB_m5d1u4ht"
      },
      "execution_count": null,
      "outputs": []
    },
    {
      "cell_type": "code",
      "source": [
        "# Define the channel research task.\n",
        "channel_research_task = Task(\n",
        "    description = f\"\"\"\n",
        "    Research the chanel {youtube_lead['name']} on url {youtube_lead['channel_url']}:\n",
        "    1. Identify channel and content type.\n",
        "    2. Determine approximate subscriber count and engagement.\n",
        "    3. Chack for audience alignment with {brand_info['name']}.\n",
        "    \"\"\",\n",
        "    expected_output = \"A research report on the channel's key atritbutes and audience.\",\n",
        "    agent = research_agent\n",
        ")"
      ],
      "metadata": {
        "id": "KM5T6w7OxpB8"
      },
      "execution_count": null,
      "outputs": []
    },
    {
      "cell_type": "code",
      "source": [
        "# Define the videos  research task.\n",
        "videos_research_task = Task(\n",
        "    description = f\"\"\"\n",
        "    Research the most popular videos from {youtube_lead['name']} at {youtube_lead['channel_url']}.\n",
        "    Summarize their topics and analyze their audienes.\n",
        "    \"\"\",\n",
        "    expected_output = \"A research report on the most popular videos and their topics.\",\n",
        "    agent = research_agent,\n",
        ")\n"
      ],
      "metadata": {
        "id": "Z5CbX4-6y_pV"
      },
      "execution_count": null,
      "outputs": []
    },
    {
      "cell_type": "code",
      "source": [
        "# Define a sentiment on the channel ia Google Searches.\n",
        "sentiment_research_task = Task(\n",
        "    description = f\"\"\"\n",
        "    Conduct a sentiment analysis, via Google Search, of {youtube_lead['name']} at {youtube_lead['channel_url']}.\n",
        "    Look for user feedback, reviews, or discussions that indicate general sentiment.\n",
        "    Search for instances on Reddit, being aware of their leftwing bias\n",
        "    \"\"\",\n",
        "    expected_output = \"A sentiment analysis report on the channel.\",\n",
        "    agent = research_agent,\n",
        ")"
      ],
      "metadata": {
        "id": "HW5Cruvs07Cs"
      },
      "execution_count": null,
      "outputs": []
    },
    {
      "cell_type": "markdown",
      "source": [
        "# AI Scoring Agent"
      ],
      "metadata": {
        "id": "oUS8xqmA7ATu"
      }
    },
    {
      "cell_type": "code",
      "source": [
        "# Developing the scoring agent.\n",
        "scoring_agent = Agent(\n",
        "    role = \"Partnership Scoring Agent\",\n",
        "    goal = f\"Score the partnership between {brand_info['name']} and {youtube_lead['name']} on the following criteria: {brand_info['brand_values']}\",\n",
        "    backstory = f\"You are an expert in Influencer Marketing working for {brand_info['name']}\",\n",
        "    llm = llm,\n",
        ")"
      ],
      "metadata": {
        "id": "-M3iZFrz5AWR"
      },
      "execution_count": null,
      "outputs": []
    },
    {
      "cell_type": "code",
      "source": [
        "# Create a base model task to provide a score\n",
        "class Score(BaseModel):\n",
        "  score: int\n",
        "  justification: str"
      ],
      "metadata": {
        "id": "55WX79AP-I7G"
      },
      "execution_count": null,
      "outputs": []
    },
    {
      "cell_type": "code",
      "source": [
        "# Define the scoring task.\n",
        "scoring_task = Task(\n",
        "    description= f\"Score the partnership between {brand_info['name']} and {youtube_lead['name']}\",\n",
        "    expected_output= \"A score between 1 and 10 with a justification explaining what fits and what doesn't.\",\n",
        "    agent=scoring_agent,\n",
        "    context = [channel_research_task, videos_research_task, sentiment_research_task],\n",
        "    output_pydantic = Score,\n",
        ")"
      ],
      "metadata": {
        "id": "1EbNvqyB7uCj"
      },
      "execution_count": null,
      "outputs": []
    },
    {
      "cell_type": "markdown",
      "source": [
        "# Build AI Crew"
      ],
      "metadata": {
        "id": "cf-ocECL4CiM"
      }
    },
    {
      "cell_type": "code",
      "source": [
        "# Assemble AI Crew\n",
        "crew = Crew(\n",
        "    agents = [research_agent, scoring_agent],\n",
        "    tasks = [\n",
        "        channel_research_task,\n",
        "        videos_research_task,\n",
        "        sentiment_research_task,\n",
        "        scoring_task],\n",
        "    process = Process.sequential,\n",
        "    verbose= False,\n",
        ")"
      ],
      "metadata": {
        "id": "7NHhuZdx4D0T"
      },
      "execution_count": null,
      "outputs": []
    },
    {
      "cell_type": "code",
      "source": [
        "# Activate\n",
        "result = crew.kickoff()"
      ],
      "metadata": {
        "colab": {
          "base_uri": "https://localhost:8080/"
        },
        "collapsed": true,
        "id": "rBGDTPrh4b-m",
        "outputId": "cc76a439-2003-4e04-ff93-0a92ef15df49"
      },
      "execution_count": null,
      "outputs": [
        {
          "output_type": "stream",
          "name": "stderr",
          "text": [
            "/usr/local/lib/python3.12/dist-packages/pydantic/main.py:463: UserWarning: Pydantic serializer warnings:\n",
            "  PydanticSerializationUnexpectedValue(Expected 9 fields but got 6: Expected `Message` - serialized value may not be as expected [input_value=Message(content='Thought:...: None}, annotations=[]), input_type=Message])\n",
            "  PydanticSerializationUnexpectedValue(Expected `StreamingChoices` - serialized value may not be as expected [input_value=Choices(finish_reason='st...ider_specific_fields={}), input_type=Choices])\n",
            "  return self.__pydantic_serializer__.to_python(\n",
            "/usr/local/lib/python3.12/dist-packages/pydantic/main.py:463: UserWarning: Pydantic serializer warnings:\n",
            "  PydanticSerializationUnexpectedValue(Expected 9 fields but got 6: Expected `Message` - serialized value may not be as expected [input_value=Message(content='\\nThough...: None}, annotations=[]), input_type=Message])\n",
            "  PydanticSerializationUnexpectedValue(Expected `StreamingChoices` - serialized value may not be as expected [input_value=Choices(finish_reason='st...ider_specific_fields={}), input_type=Choices])\n",
            "  return self.__pydantic_serializer__.to_python(\n",
            "/usr/local/lib/python3.12/dist-packages/pydantic/main.py:463: UserWarning: Pydantic serializer warnings:\n",
            "  PydanticSerializationUnexpectedValue(Expected 9 fields but got 6: Expected `Message` - serialized value may not be as expected [input_value=Message(content='Thought:...: None}, annotations=[]), input_type=Message])\n",
            "  PydanticSerializationUnexpectedValue(Expected `StreamingChoices` - serialized value may not be as expected [input_value=Choices(finish_reason='st...ider_specific_fields={}), input_type=Choices])\n",
            "  return self.__pydantic_serializer__.to_python(\n",
            "/usr/local/lib/python3.12/dist-packages/pydantic/main.py:463: UserWarning: Pydantic serializer warnings:\n",
            "  PydanticSerializationUnexpectedValue(Expected 9 fields but got 6: Expected `Message` - serialized value may not be as expected [input_value=Message(content='Thought:...: None}, annotations=[]), input_type=Message])\n",
            "  PydanticSerializationUnexpectedValue(Expected `StreamingChoices` - serialized value may not be as expected [input_value=Choices(finish_reason='st...ider_specific_fields={}), input_type=Choices])\n",
            "  return self.__pydantic_serializer__.to_python(\n",
            "/usr/local/lib/python3.12/dist-packages/pydantic/main.py:463: UserWarning: Pydantic serializer warnings:\n",
            "  PydanticSerializationUnexpectedValue(Expected 9 fields but got 6: Expected `Message` - serialized value may not be as expected [input_value=Message(content='To resea...: None}, annotations=[]), input_type=Message])\n",
            "  PydanticSerializationUnexpectedValue(Expected `StreamingChoices` - serialized value may not be as expected [input_value=Choices(finish_reason='st...ider_specific_fields={}), input_type=Choices])\n",
            "  return self.__pydantic_serializer__.to_python(\n",
            "/usr/local/lib/python3.12/dist-packages/pydantic/main.py:463: UserWarning: Pydantic serializer warnings:\n",
            "  PydanticSerializationUnexpectedValue(Expected 9 fields but got 6: Expected `Message` - serialized value may not be as expected [input_value=Message(content='To proce...: None}, annotations=[]), input_type=Message])\n",
            "  PydanticSerializationUnexpectedValue(Expected `StreamingChoices` - serialized value may not be as expected [input_value=Choices(finish_reason='st...ider_specific_fields={}), input_type=Choices])\n",
            "  return self.__pydantic_serializer__.to_python(\n",
            "/usr/local/lib/python3.12/dist-packages/pydantic/main.py:463: UserWarning: Pydantic serializer warnings:\n",
            "  PydanticSerializationUnexpectedValue(Expected 9 fields but got 6: Expected `Message` - serialized value may not be as expected [input_value=Message(content=\"Based on...: None}, annotations=[]), input_type=Message])\n",
            "  PydanticSerializationUnexpectedValue(Expected `StreamingChoices` - serialized value may not be as expected [input_value=Choices(finish_reason='st...ider_specific_fields={}), input_type=Choices])\n",
            "  return self.__pydantic_serializer__.to_python(\n",
            "/usr/local/lib/python3.12/dist-packages/pydantic/main.py:463: UserWarning: Pydantic serializer warnings:\n",
            "  PydanticSerializationUnexpectedValue(Expected 9 fields but got 6: Expected `Message` - serialized value may not be as expected [input_value=Message(content='I need t...: None}, annotations=[]), input_type=Message])\n",
            "  PydanticSerializationUnexpectedValue(Expected `StreamingChoices` - serialized value may not be as expected [input_value=Choices(finish_reason='st...ider_specific_fields={}), input_type=Choices])\n",
            "  return self.__pydantic_serializer__.to_python(\n",
            "/usr/local/lib/python3.12/dist-packages/pydantic/main.py:463: UserWarning: Pydantic serializer warnings:\n",
            "  PydanticSerializationUnexpectedValue(Expected 9 fields but got 6: Expected `Message` - serialized value may not be as expected [input_value=Message(content='```\\nTho...: None}, annotations=[]), input_type=Message])\n",
            "  PydanticSerializationUnexpectedValue(Expected `StreamingChoices` - serialized value may not be as expected [input_value=Choices(finish_reason='st...ider_specific_fields={}), input_type=Choices])\n",
            "  return self.__pydantic_serializer__.to_python(\n",
            "/usr/local/lib/python3.12/dist-packages/pydantic/main.py:463: UserWarning: Pydantic serializer warnings:\n",
            "  PydanticSerializationUnexpectedValue(Expected 9 fields but got 6: Expected `Message` - serialized value may not be as expected [input_value=Message(content='```\\nTho...: None}, annotations=[]), input_type=Message])\n",
            "  PydanticSerializationUnexpectedValue(Expected `StreamingChoices` - serialized value may not be as expected [input_value=Choices(finish_reason='st...ider_specific_fields={}), input_type=Choices])\n",
            "  return self.__pydantic_serializer__.to_python(\n",
            "/usr/local/lib/python3.12/dist-packages/pydantic/main.py:463: UserWarning: Pydantic serializer warnings:\n",
            "  PydanticSerializationUnexpectedValue(Expected 9 fields but got 6: Expected `Message` - serialized value may not be as expected [input_value=Message(content='```\\nTho...: None}, annotations=[]), input_type=Message])\n",
            "  PydanticSerializationUnexpectedValue(Expected `StreamingChoices` - serialized value may not be as expected [input_value=Choices(finish_reason='st...ider_specific_fields={}), input_type=Choices])\n",
            "  return self.__pydantic_serializer__.to_python(\n",
            "/usr/local/lib/python3.12/dist-packages/pydantic/main.py:463: UserWarning: Pydantic serializer warnings:\n",
            "  PydanticSerializationUnexpectedValue(Expected 9 fields but got 6: Expected `Message` - serialized value may not be as expected [input_value=Message(content='```\\nTho...: None}, annotations=[]), input_type=Message])\n",
            "  PydanticSerializationUnexpectedValue(Expected `StreamingChoices` - serialized value may not be as expected [input_value=Choices(finish_reason='st...ider_specific_fields={}), input_type=Choices])\n",
            "  return self.__pydantic_serializer__.to_python(\n",
            "/usr/local/lib/python3.12/dist-packages/pydantic/main.py:463: UserWarning: Pydantic serializer warnings:\n",
            "  PydanticSerializationUnexpectedValue(Expected 9 fields but got 6: Expected `Message` - serialized value may not be as expected [input_value=Message(content=\"```\\nTho...: None}, annotations=[]), input_type=Message])\n",
            "  PydanticSerializationUnexpectedValue(Expected `StreamingChoices` - serialized value may not be as expected [input_value=Choices(finish_reason='st...ider_specific_fields={}), input_type=Choices])\n",
            "  return self.__pydantic_serializer__.to_python(\n",
            "/usr/local/lib/python3.12/dist-packages/pydantic/main.py:463: UserWarning: Pydantic serializer warnings:\n",
            "  PydanticSerializationUnexpectedValue(Expected 9 fields but got 6: Expected `Message` - serialized value may not be as expected [input_value=Message(content='I now ca...: None}, annotations=[]), input_type=Message])\n",
            "  PydanticSerializationUnexpectedValue(Expected `StreamingChoices` - serialized value may not be as expected [input_value=Choices(finish_reason='st...ider_specific_fields={}), input_type=Choices])\n",
            "  return self.__pydantic_serializer__.to_python(\n"
          ]
        }
      ]
    },
    {
      "cell_type": "markdown",
      "source": [
        "# Outputs"
      ],
      "metadata": {
        "id": "ie_3d6wR4oDb"
      }
    },
    {
      "cell_type": "code",
      "source": [
        "channel_research_output = result.tasks_output[0].raw\n",
        "videos_research_output = result.tasks_output[1].raw\n",
        "sentiment_research_output = result.tasks_output[2].raw\n",
        "scoring_output = result.tasks_output[3].raw"
      ],
      "metadata": {
        "id": "N9M5FhR04e7u"
      },
      "execution_count": null,
      "outputs": []
    },
    {
      "cell_type": "code",
      "source": [
        "print(\"Channel Research Output:\")\n",
        "display(Markdown(channel_research_output))"
      ],
      "metadata": {
        "colab": {
          "base_uri": "https://localhost:8080/",
          "height": 417
        },
        "id": "tdDebL7z5Hwc",
        "outputId": "c53bd64b-499e-4b0d-b4d6-45e2ec6508e2"
      },
      "execution_count": null,
      "outputs": [
        {
          "output_type": "stream",
          "name": "stdout",
          "text": [
            "Channel Research Output:\n"
          ]
        },
        {
          "output_type": "display_data",
          "data": {
            "text/plain": [
              "<IPython.core.display.Markdown object>"
            ],
            "text/markdown": "**Research Report on Theo - t3․gg YouTube Channel**\n\n1. **Channel and Content Type:**\n   - The channel \"Theo - t3․gg\" is focused on software development, particularly full-stack TypeScript. It is run by Theo, who is known for his work with the T3 stack. The content includes tech stack breakdowns, startup stories, and discussions on software development topics.\n\n2. **Subscriber Count and Engagement:**\n   - As of the latest data, the channel has approximately 441,000 subscribers and has accumulated over 71.47 million video views in total. The channel features videos with high view counts, indicating strong engagement from its audience.\n\n3. **Audience Alignment with Zero to Mastery:**\n   - The channel's audience consists of motivated learners interested in programming, software engineering, and tech career advice, aligning well with Zero to Mastery's brand values of quality education, community-driven growth, and career-focused learning. The content is up-to-date with current tech stacks, which is crucial for Zero to Mastery's focus on modern technology education.\n\nOverall, the \"Theo - t3․gg\" YouTube channel appears to be a suitable partner for Zero to Mastery, given its focus on relevant tech topics and its engaged audience of learners."
          },
          "metadata": {}
        }
      ]
    },
    {
      "cell_type": "code",
      "source": [
        "print(\"Videos Research Output:\")\n",
        "display(Markdown(videos_research_output))"
      ],
      "metadata": {
        "colab": {
          "base_uri": "https://localhost:8080/",
          "height": 151
        },
        "id": "2QOWhGIF5HnG",
        "outputId": "ec0e3419-40bb-4473-e5d2-aebac29dc9dd"
      },
      "execution_count": null,
      "outputs": [
        {
          "output_type": "stream",
          "name": "stdout",
          "text": [
            "Videos Research Output:\n"
          ]
        },
        {
          "output_type": "display_data",
          "data": {
            "text/plain": [
              "<IPython.core.display.Markdown object>"
            ],
            "text/markdown": "The most popular videos on the Theo - t3․gg YouTube channel cover a variety of topics relevant to software development and tech careers. These include discussions on industry trends, cost management in cloud services, critiques of popular technologies, and personal insights into startup challenges. The channel's content appeals to an audience of motivated learners and professionals, aligning well with Zero to Mastery's focus on quality education and career development in the tech industry."
          },
          "metadata": {}
        }
      ]
    },
    {
      "cell_type": "code",
      "source": [
        "print(\"Sentiment Research Output:\")\n",
        "display(Markdown(sentiment_research_output))"
      ],
      "metadata": {
        "colab": {
          "base_uri": "https://localhost:8080/",
          "height": 452
        },
        "id": "RZrkvA8947hP",
        "outputId": "66e400f0-9bed-458b-d4de-8a01c48c835a"
      },
      "execution_count": null,
      "outputs": [
        {
          "output_type": "stream",
          "name": "stdout",
          "text": [
            "Sentiment Research Output:\n"
          ]
        },
        {
          "output_type": "display_data",
          "data": {
            "text/plain": [
              "<IPython.core.display.Markdown object>"
            ],
            "text/markdown": "**Sentiment Analysis Report on Theo - t3․gg YouTube Channel**\n\n1. **Positive Sentiments:**\n   - Theo - t3․gg is recognized for providing valuable content on full-stack TypeScript and software development. Many users appreciate the technical insights and the educational value of the content.\n   - The channel is noted for its strong engagement, with high view counts and a substantial subscriber base, indicating a positive reception from a large audience.\n\n2. **Negative Sentiments:**\n   - Some users on Reddit have expressed concerns about Theo's personality, describing it as off-putting or narcissistic. This sentiment suggests that while the content is valuable, the delivery or personal style may not resonate with everyone.\n   - There are mentions of communication struggles, which some viewers find makes the content harder to digest.\n\n3. **Mixed Sentiments:**\n   - While some viewers appreciate Theo's strong opinions on technology, others feel that these opinions can be polarizing. This indicates a mixed reception where some viewers value the honesty, while others may find it too blunt.\n\nOverall, the sentiment towards Theo - t3․gg is generally positive in terms of content quality and educational value, aligning well with Zero to Mastery's brand values. However, there are some personality and communication style concerns that may affect viewer perception."
          },
          "metadata": {}
        }
      ]
    },
    {
      "cell_type": "code",
      "source": [
        "# Format the output using Markdown\n",
        "markdown_output = f\"\"\"\n",
        "**Partnership Score:** {scoring_data['score']}/10\n",
        "\n",
        "**Justification:** {scoring_data['justification']}\n",
        "\"\"\"\n",
        "\n",
        "display(Markdown(markdown_output))"
      ],
      "metadata": {
        "colab": {
          "base_uri": "https://localhost:8080/",
          "height": 209
        },
        "id": "43Ivki9F_sbm",
        "outputId": "1674ad6d-1186-47dd-88ac-c8729ed25339"
      },
      "execution_count": null,
      "outputs": [
        {
          "output_type": "display_data",
          "data": {
            "text/plain": [
              "<IPython.core.display.Markdown object>"
            ],
            "text/markdown": "\n**Partnership Score:** 8/10\n\n**Justification:** The partnership between Zero to Mastery and Theo - t3․gg scores an 8 out of 10. The channel aligns well with Zero to Mastery's focus on quality education, community-driven growth, and career-focused learning. Theo's content is up-to-date with current tech stacks, particularly full-stack TypeScript, which is crucial for modern technology education. The channel's large and engaged audience of motivated learners interested in programming and tech careers further supports this alignment. However, the score is slightly reduced due to some negative sentiments regarding Theo's personality and communication style, which may not resonate with all viewers. Despite these concerns, the overall educational value and audience engagement make this partnership a strong fit for Zero to Mastery.\n"
          },
          "metadata": {}
        }
      ]
    },
    {
      "cell_type": "code",
      "source": [],
      "metadata": {
        "id": "VMUj5LYy_9Z7"
      },
      "execution_count": null,
      "outputs": []
    }
  ]
}