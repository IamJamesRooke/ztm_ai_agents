{
  "nbformat": 4,
  "nbformat_minor": 0,
  "metadata": {
    "colab": {
      "provenance": [],
      "toc_visible": true,
      "authorship_tag": "ABX9TyOnJBhc/jqJQTLFhXV1KcKa",
      "include_colab_link": true
    },
    "kernelspec": {
      "name": "python3",
      "display_name": "Python 3"
    },
    "language_info": {
      "name": "python"
    }
  },
  "cells": [
    {
      "cell_type": "markdown",
      "metadata": {
        "id": "view-in-github",
        "colab_type": "text"
      },
      "source": [
        "<a href=\"https://colab.research.google.com/github/IamJamesRooke/ztm_ai_agents/blob/master/CrewAI_Job_Interview_Prep_Part_1.ipynb\" target=\"_parent\"><img src=\"https://colab.research.google.com/assets/colab-badge.svg\" alt=\"Open In Colab\"/></a>"
      ]
    },
    {
      "cell_type": "code",
      "execution_count": null,
      "metadata": {
        "id": "eTBTeTxHA2XG"
      },
      "outputs": [],
      "source": []
    },
    {
      "cell_type": "markdown",
      "source": [
        "# Setup"
      ],
      "metadata": {
        "id": "CP_sEhcoBbc2"
      }
    },
    {
      "cell_type": "markdown",
      "source": [
        "PIP Installs"
      ],
      "metadata": {
        "id": "7RxEahBfCQ3c"
      }
    },
    {
      "cell_type": "code",
      "source": [
        "# pip install 'crewai[tools]'"
      ],
      "metadata": {
        "id": "r52FUpudBc6C"
      },
      "execution_count": null,
      "outputs": []
    },
    {
      "cell_type": "markdown",
      "source": [
        "OpenAI API Key"
      ],
      "metadata": {
        "id": "bk9QBgzVCZ5i"
      }
    },
    {
      "cell_type": "code",
      "source": [
        "from google.colab import userdata\n",
        "openai_api_key = userdata.get('ai_agents_openai')"
      ],
      "metadata": {
        "id": "NI9DiLuGBJlL"
      },
      "execution_count": null,
      "outputs": []
    },
    {
      "cell_type": "markdown",
      "source": [
        "Set the API keys as environment variables."
      ],
      "metadata": {
        "id": "XPF0HwkHDA-a"
      }
    },
    {
      "cell_type": "code",
      "source": [
        "os.environ['OPENAI_API_KEY'] = openai_api_key"
      ],
      "metadata": {
        "id": "bTG10h8HDFFE"
      },
      "execution_count": null,
      "outputs": []
    },
    {
      "cell_type": "markdown",
      "source": [
        "Import Libraries"
      ],
      "metadata": {
        "id": "VTNeovhVCncR"
      }
    },
    {
      "cell_type": "code",
      "source": [
        "from langchain_openai import ChatOpenAI\n",
        "from crewai import Agent, Process, Crew, Task\n",
        "from IPython.display import display, Markdown\n",
        "import os\n",
        "from crewai.knowledge.source.string_knowledge_source import StringKnowledgeSource"
      ],
      "metadata": {
        "id": "FlBXejttBqV7"
      },
      "execution_count": null,
      "outputs": []
    },
    {
      "cell_type": "markdown",
      "source": [
        "Define LLM"
      ],
      "metadata": {
        "id": "DgpRSWP1EpBw"
      }
    },
    {
      "cell_type": "code",
      "source": [
        "llm = ChatOpenAI(model_name = \"gpt-4o\", temperature = 0.5)"
      ],
      "metadata": {
        "id": "XNXkFH2gCstq"
      },
      "execution_count": null,
      "outputs": []
    },
    {
      "cell_type": "markdown",
      "source": [
        "# Data"
      ],
      "metadata": {
        "id": "MnDTYZQSE-tr"
      }
    },
    {
      "cell_type": "code",
      "source": [
        "interviewer = \"Tony Yabeck\"\n",
        "company = \"The Bitcoin Way\"\n",
        "job_position = \"Bitcoin Self-Custody Specialist\"\n",
        "job_description = f\"\"\"\n",
        "The Bitcoin Way is looking for another Self-Custody Expert to join our team and work closely with our clients. This is a hands-on role that requires both deep technical knowledge and strong people skills.\n",
        "What You’ll Do\n",
        "Guide clients through setting up and securing their Bitcoin wallets, nodes, and related infrastructure.\n",
        "Provide one-on-one consultations, ensuring clients understand best practices in Bitcoin self-custody.\n",
        "Stay on top of the latest developments in Bitcoin, open-source tools, cybersecurity, and privacy.\n",
        "Work in alignment with our mission: empowering individuals to take sovereignty over their Bitcoin and their future.\n",
        "Requirements\n",
        "Availability to work US PM hours\n",
        "Strong knowledge of:\n",
        "Bitcoin wallets (hardware & software)\n",
        "Nodes\n",
        "Open-source software\n",
        "Cybersecurity & privacy best practices\n",
        "Must be a Bitcoiner first (not just a job — Bitcoin is part of your life).\n",
        "Experience working directly with people — ability to explain technical concepts clearly, patiently, and with empathy.\n",
        "A visible profile in the Bitcoin community is a plus (e.g., X, Nostr, GitHub, writing, public speaking).\n",
        "How to Apply\n",
        "Apply directly here via email.\n",
        "In your email, please include:\n",
        "About You – Tell us who you are and why Bitcoin matters to you.\n",
        "Social Profiles & Work – Share links to your X, Nostr, GitHub, blog, or any public work you’ve done in Bitcoin.\n",
        "Top 3 Hardware Wallets – Your personal recommendations and why you picked them.\n",
        "Node Experience – Share your hands-on experience running, managing, or teaching others about nodes.\n",
        "People Skills – Examples of how you’ve worked with people (teaching, onboarding, consulting, support, etc.).\n",
        "\"\"\""
      ],
      "metadata": {
        "id": "c5lUKA0zE6Hk"
      },
      "execution_count": null,
      "outputs": []
    },
    {
      "cell_type": "markdown",
      "source": [
        "# Agents\n",
        "\n",
        "Create the Interviewer AI Agent"
      ],
      "metadata": {
        "id": "CKpnPT5XMvq0"
      }
    },
    {
      "cell_type": "markdown",
      "source": [
        "## Interviewer Agent\n"
      ],
      "metadata": {
        "id": "R2ncQtsgrUGS"
      }
    },
    {
      "cell_type": "code",
      "source": [
        "interviewer_agent = Agent(\n",
        "    role = f\"You are {interviewer}, working at {company}, and hiring for {job_position}.\",\n",
        "    goal = f\"You help the user prepare for the job interview for job {job_position} with the following description {job_description}.\",\n",
        "    backstory = \"Tony Yazbeck, co-founder of The Bitcoin Way, brings over 25 years of experience in running cybersecurity and IT companies. After retiring early, Tony faced the devastating loss of his wealth during the financial collapse in Lebanon. This life-changing event ignited his mission to use his expertise to help as many people as possible protect themselves against similar vulnerabilities. As the face of the company, Tony is a prominent voice in the industry and regularly appears on popular podcasts.\",\n",
        "    llm = llm,\n",
        ")"
      ],
      "metadata": {
        "id": "AFy-9XsbMyXg"
      },
      "execution_count": null,
      "outputs": []
    },
    {
      "cell_type": "markdown",
      "source": [
        "Define interview prep task."
      ],
      "metadata": {
        "id": "pdXl93UQOeH9"
      }
    },
    {
      "cell_type": "code",
      "source": [
        "interview_prep_task = Task(\n",
        "    description = f\"\"\"\n",
        "    Interview the user for the job {job_position} with the following description {job_description}.\n",
        "    \"\"\",\n",
        "    expected_output= f\"\"\"\n",
        "    Ask only one question to the user that is relevant for the job {job_position} that has not been asked before.\n",
        "    \"\"\",\n",
        "    agent = interviewer_agent,\n",
        "    human_input = True\n",
        ")"
      ],
      "metadata": {
        "id": "LLMELnD4Ou2x"
      },
      "execution_count": null,
      "outputs": []
    },
    {
      "cell_type": "markdown",
      "source": [
        "## AI Coach"
      ],
      "metadata": {
        "id": "Z3zFrASPnAxu"
      }
    },
    {
      "cell_type": "code",
      "source": [
        "coach_agent = Agent(\n",
        "    role = \"Interview Coach\",\n",
        "    goal = f\"Help the user prepare for the job interview for {job_position} by grading the relevance of the answer to the question.\",\n",
        "    backstory = \"\"\"\n",
        "    You are an energetic and empowering interview coach, much like Tony Robbins.\n",
        "    You believe in unlocking potential and helping individuals perform at their best.\n",
        "    Your coaching style is direct, motivating, and focuses on building confidence and articulating strengths effectively.\n",
        "    You'll provide insightful feedback to help the user excel in their interview.\n",
        "    \"\"\",\n",
        "    llm = llm,\n",
        ")"
      ],
      "metadata": {
        "id": "eWjA-TGknCT8"
      },
      "execution_count": null,
      "outputs": []
    },
    {
      "cell_type": "markdown",
      "source": [
        "Define Coaching Task"
      ],
      "metadata": {
        "id": "frEeO4AsoE44"
      }
    },
    {
      "cell_type": "code",
      "source": [
        "coaching_task = Task(\n",
        "    description = \"Give feedback to the user on its answer.\",\n",
        "    expected_output = f\"Give feedback to the user on what was good, and how to take it to the next level. Do it with bullet points.\",\n",
        "    agent = coach_agent,\n",
        "    context = [interview_prep_task]\n",
        ")"
      ],
      "metadata": {
        "id": "iPSt_GshoGKK"
      },
      "execution_count": null,
      "outputs": []
    },
    {
      "cell_type": "markdown",
      "source": [
        "# AI CREW"
      ],
      "metadata": {
        "id": "v4GBnY6jXAqT"
      }
    },
    {
      "cell_type": "code",
      "source": [
        "# Create empty list for questions.\n",
        "interview_questions = []"
      ],
      "metadata": {
        "id": "lfjEV4_MslpG"
      },
      "execution_count": null,
      "outputs": []
    },
    {
      "cell_type": "code",
      "source": [
        "# Create empty list for questions.\n",
        "interview_questions = []\n",
        "\n",
        "# Initialize string_source here, before it's used in Crew\n",
        "interview_content = ' '.join(interview_questions) # This will be empty initially\n",
        "string_source = StringKnowledgeSource(content=interview_content)\n",
        "\n",
        "\n",
        "crew = Crew(\n",
        "    agents = [interviewer_agent, coach_agent],\n",
        "    tasks = [interview_prep_task, coaching_task],\n",
        "    verbose = True,\n",
        "    process = Process.sequential,\n",
        "    memory = True,\n",
        "    knowledge_sources= [string_source]\n",
        ")\n",
        "\n",
        "result = crew.kickoff()\n",
        "\n",
        "# Store each question\n",
        "interview_questions.append(result.tasks_output[0]).raw\n",
        "interview_content = ' '.join(interview_questions)\n",
        "string_source = StringKnowledgeSource(content=interview_content)"
      ],
      "metadata": {
        "colab": {
          "base_uri": "https://localhost:8080/",
          "height": 1000
        },
        "collapsed": true,
        "id": "UUioob-pXCa8",
        "outputId": "4fe84dac-efaf-4eee-e7e4-e15107f36890"
      },
      "execution_count": null,
      "outputs": [
        {
          "output_type": "stream",
          "name": "stdout",
          "text": [
            "\u001b[91m \n",
            "[2025-08-29 16:48:02][ERROR]: Failed to upsert documents: Non-empty lists are required for ['ids', 'documents'] in upsert.\u001b[00m\n",
            "\u001b[93m \n",
            "[2025-08-29 16:48:02][WARNING]: Failed to init knowledge: Non-empty lists are required for ['ids', 'documents'] in upsert.\u001b[00m\n",
            "╭─────────────────────────── Crew Execution Started ───────────────────────────╮\n",
            "│                                                                              │\n",
            "│  Crew Execution Started                                                      │\n",
            "│  Name: crew                                                                  │\n",
            "│  ID: 1f3cc4ae-25ba-4af9-a6eb-25b1cfae206c                                    │\n",
            "│  Tool Args:                                                                  │\n",
            "│                                                                              │\n",
            "│                                                                              │\n",
            "╰──────────────────────────────────────────────────────────────────────────────╯\n",
            "\n",
            "📋 Task: fc61ce72-b206-4677-b86c-4ba9ef6b6469\n",
            "Assigned to: Interview Coach\n",
            "Status: ✅ Completed\n",
            "├── ✅ Memory Retrieval Completed\n",
            "│   └── Sources Used\n",
            "│       ├── ✅ Long Term Memory (0.32ms)\n",
            "│       ├── ✅ Short Term Memory (1024.63ms)\n",
            "│       └── ✅ Entity Memory (857.36ms)\n",
            "└── ✅ Knowledge Retrieval Completed╭────────────────────────────── 🤖 Agent Started ──────────────────────────────╮\n",
            "│                                                                              │\n",
            "│  Agent: You are Tony Yabeck, working at The Bitcoin Way, and hiring for      │\n",
            "│  Bitcoin Self-Custody Specialist.                                            │\n",
            "│                                                                              │\n",
            "│  Task:                                                                       │\n",
            "│      Interview the user for the job Bitcoin Self-Custody Specialist with     │\n",
            "│  the following description                                                   │\n",
            "│  The Bitcoin Way is looking for another Self-Custody Expert to join our      │\n",
            "│  team and work closely with our clients. This is a hands-on role that        │\n",
            "│  requires both deep technical knowledge and strong people skills.            │\n",
            "│  What You’ll Do                                                              │\n",
            "│  Guide clients through setting up and securing their Bitcoin wallets,        │\n",
            "│  nodes, and related infrastructure.                                          │\n",
            "│  Provide one-on-one consultations, ensuring clients understand best          │\n",
            "│  practices in Bitcoin self-custody.                                          │\n",
            "│  Stay on top of the latest developments in Bitcoin, open-source tools,       │\n",
            "│  cybersecurity, and privacy.                                                 │\n",
            "│  Work in alignment with our mission: empowering individuals to take          │\n",
            "│  sovereignty over their Bitcoin and their future.                            │\n",
            "│  Requirements                                                                │\n",
            "│  Availability to work US PM hours                                            │\n",
            "│  Strong knowledge of:                                                        │\n",
            "│  Bitcoin wallets (hardware & software)                                       │\n",
            "│  Nodes                                                                       │\n",
            "│  Open-source software                                                        │\n",
            "│  Cybersecurity & privacy best practices                                      │\n",
            "│  Must be a Bitcoiner first (not just a job — Bitcoin is part of your life).  │\n",
            "│  Experience working directly with people — ability to explain technical      │\n",
            "│  concepts clearly, patiently, and with empathy.                              │\n",
            "│  A visible profile in the Bitcoin community is a plus (e.g., X, Nostr,       │\n",
            "│  GitHub, writing, public speaking).                                          │\n",
            "│  How to Apply                                                                │\n",
            "│  Apply directly here via email.                                              │\n",
            "│  In your email, please include:                                              │\n",
            "│  About You – Tell us who you are and why Bitcoin matters to you.             │\n",
            "│  Social Profiles & Work – Share links to your X, Nostr, GitHub, blog, or     │\n",
            "│  any public work you’ve done in Bitcoin.                                     │\n",
            "│  Top 3 Hardware Wallets – Your personal recommendations and why you picked   │\n",
            "│  them.                                                                       │\n",
            "│  Node Experience – Share your hands-on experience running, managing, or      │\n",
            "│  teaching others about nodes.                                                │\n",
            "│  People Skills – Examples of how you’ve worked with people (teaching,        │\n",
            "│  onboarding, consulting, support, etc.).                                     │\n",
            "│  .                                                                           │\n",
            "│                                                                              │\n",
            "│                                                                              │\n",
            "╰──────────────────────────────────────────────────────────────────────────────╯\n",
            "\n",
            "🚀 Crew: crew\n",
            "└── 📋 Task: 5bea3ecb-08fd-4180-b600-4dcb93179ec9\n",
            "    Status: Executing Task...╭─────────────────────────── ✅ Agent Final Answer ────────────────────────────╮\n",
            "│                                                                              │\n",
            "│  Agent: You are Tony Yabeck, working at The Bitcoin Way, and hiring for      │\n",
            "│  Bitcoin Self-Custody Specialist.                                            │\n",
            "│                                                                              │\n",
            "│  Final Answer:                                                               │\n",
            "│  What experience do you have in guiding clients through setting up and       │\n",
            "│  securing their Bitcoin wallets, nodes, and related infrastructure, and how  │\n",
            "│  do you ensure that they understand best practices in Bitcoin self-custody?  │\n",
            "│                                                                              │\n",
            "╰──────────────────────────────────────────────────────────────────────────────╯\n",
            "\n"
          ]
        },
        {
          "output_type": "stream",
          "name": "stderr",
          "text": [
            "/usr/local/lib/python3.12/dist-packages/pydantic/main.py:463: UserWarning: Pydantic serializer warnings:\n",
            "  PydanticSerializationUnexpectedValue(Expected 9 fields but got 6: Expected `Message` - serialized value may not be as expected [input_value=Message(content='I now ca...: None}, annotations=[]), input_type=Message])\n",
            "  PydanticSerializationUnexpectedValue(Expected `StreamingChoices` - serialized value may not be as expected [input_value=Choices(finish_reason='st...ider_specific_fields={}), input_type=Choices])\n",
            "  return self.__pydantic_serializer__.to_python(\n"
          ]
        },
        {
          "output_type": "stream",
          "name": "stdout",
          "text": [
            "\u001b[1m\u001b[95m ## Final Result:\u001b[00m \u001b[92mWhat experience do you have in guiding clients through setting up and securing their Bitcoin wallets, nodes, and related infrastructure, and how do you ensure that they understand best practices in Bitcoin self-custody?\u001b[00m\n",
            "\u001b[1m\u001b[93m \n",
            "\n",
            "=====\n",
            "## HUMAN FEEDBACK: Provide feedback on the Final Result and Agent's actions.\n",
            "Please follow these guidelines:\n",
            " - If you are happy with the result, simply hit Enter without typing anything.\n",
            " - Otherwise, provide specific improvement requests.\n",
            " - You can provide multiple rounds of feedback until satisfied.\n",
            "=====\n",
            "\u001b[00m\n",
            "I helped a friend move from an exchange to self-custody by breaking it into simple steps: setting up a hardware wallet, securing the seed phrase, and doing a small test transaction first. I explained the “why” behind each step—like why the seed phrase matters—and used plain language instead of jargon. We practiced restoring the wallet together so they’d feel confident if something went wrong. By the end, they understood the process and felt in control of their Bitcoin. I focused on education over shortcuts so they could manage everything independently without fear.\n",
            "\u001b[96m \n",
            "Processing your feedback...\u001b[00m\n",
            "🚀 Crew: crew\n",
            "└── 📋 Task: 5bea3ecb-08fd-4180-b600-4dcb93179ec9\n",
            "    Status: Executing Task...╭─────────────────────────── ✅ Agent Final Answer ────────────────────────────╮\n",
            "│                                                                              │\n",
            "│  Agent: You are Tony Yabeck, working at The Bitcoin Way, and hiring for      │\n",
            "│  Bitcoin Self-Custody Specialist.                                            │\n",
            "│                                                                              │\n",
            "│  Final Answer:                                                               │\n",
            "│  Can you share an example of how you've stayed on top of the latest          │\n",
            "│  developments in Bitcoin, open-source tools, cybersecurity, and privacy,     │\n",
            "│  and how you've applied this knowledge in a practical situation to benefit   │\n",
            "│  clients or the community?                                                   │\n",
            "│                                                                              │\n",
            "╰──────────────────────────────────────────────────────────────────────────────╯\n",
            "\n"
          ]
        },
        {
          "output_type": "stream",
          "name": "stderr",
          "text": [
            "/usr/local/lib/python3.12/dist-packages/pydantic/main.py:463: UserWarning: Pydantic serializer warnings:\n",
            "  PydanticSerializationUnexpectedValue(Expected 9 fields but got 6: Expected `Message` - serialized value may not be as expected [input_value=Message(content=\"Thought:...: None}, annotations=[]), input_type=Message])\n",
            "  PydanticSerializationUnexpectedValue(Expected `StreamingChoices` - serialized value may not be as expected [input_value=Choices(finish_reason='st...ider_specific_fields={}), input_type=Choices])\n",
            "  return self.__pydantic_serializer__.to_python(\n"
          ]
        },
        {
          "name": "stdout",
          "output_type": "stream",
          "text": [
            "\u001b[1m\u001b[95m ## Final Result:\u001b[00m \u001b[92mCan you share an example of how you've stayed on top of the latest developments in Bitcoin, open-source tools, cybersecurity, and privacy, and how you've applied this knowledge in a practical situation to benefit clients or the community?\u001b[00m\n",
            "\u001b[1m\u001b[93m \n",
            "\n",
            "=====\n",
            "## HUMAN FEEDBACK: Provide feedback on the Final Result and Agent's actions.\n",
            "Please follow these guidelines:\n",
            " - If you are happy with the result, simply hit Enter without typing anything.\n",
            " - Otherwise, provide specific improvement requests.\n",
            " - You can provide multiple rounds of feedback until satisfied.\n",
            "=====\n",
            "\u001b[00m\n",
            "\n"
          ]
        },
        {
          "output_type": "stream",
          "name": "stderr",
          "text": [
            "/usr/local/lib/python3.12/dist-packages/pydantic/main.py:463: UserWarning: Pydantic serializer warnings:\n",
            "  PydanticSerializationUnexpectedValue(Expected 9 fields but got 6: Expected `Message` - serialized value may not be as expected [input_value=Message(content=None, rol...: None}, annotations=[]), input_type=Message])\n",
            "  PydanticSerializationUnexpectedValue(Expected `StreamingChoices` - serialized value may not be as expected [input_value=Choices(finish_reason='to...ider_specific_fields={}), input_type=Choices])\n",
            "  return self.__pydantic_serializer__.to_python(\n"
          ]
        },
        {
          "output_type": "stream",
          "name": "stdout",
          "text": [
            "🚀 Crew: crew\n",
            "└── 📋 Task: 5bea3ecb-08fd-4180-b600-4dcb93179ec9\n",
            "    Assigned to: You are Tony Yabeck, working at The Bitcoin Way, and hiring for\n",
            "    Bitcoin Self-Custody Specialist.\n",
            "    Status: ✅ Completed\n",
            "    └── 🧠 Memory Update Overall\n",
            "        ├── ✅ Short Term Memory Memory Saved (1137.57ms)\n",
            "        ├── ✅ Long Term Memory Memory Saved (11.43ms)\n",
            "        └── ✅ Entity Memory Memory Saved (7081.24ms)╭────────────────────────────── Task Completion ───────────────────────────────╮\n",
            "│                                                                              │\n",
            "│  Task Completed                                                              │\n",
            "│  Name: 5bea3ecb-08fd-4180-b600-4dcb93179ec9                                  │\n",
            "│  Agent: You are Tony Yabeck, working at The Bitcoin Way, and hiring for      │\n",
            "│  Bitcoin Self-Custody Specialist.                                            │\n",
            "│  Tool Args:                                                                  │\n",
            "│                                                                              │\n",
            "│                                                                              │\n",
            "╰──────────────────────────────────────────────────────────────────────────────╯\n",
            "\n",
            "📋 Task: 5bea3ecb-08fd-4180-b600-4dcb93179ec9\n",
            "Assigned to: You are Tony Yabeck, working at The Bitcoin Way, and hiring for \n",
            "Bitcoin Self-Custody Specialist.\n",
            "Status: ✅ Completed\n",
            "├── 🧠 Memory Update Overall\n",
            "│   ├── ✅ Short Term Memory Memory Saved (1137.57ms)\n",
            "│   ├── ✅ Long Term Memory Memory Saved (11.43ms)\n",
            "│   └── ✅ Entity Memory Memory Saved (7081.24ms)\n",
            "└── ✅ Memory Retrieval Completed\n",
            "    └── Sources Used\n",
            "        ├── ✅ Long Term Memory (0.57ms)\n",
            "        ├── ✅ Short Term Memory (1056.73ms)\n",
            "        └── ✅ Entity Memory (2951.48ms)╭──────────────────────────── 🧠 Retrieved Memory ─────────────────────────────╮\n",
            "│                                                                              │\n",
            "│  Entities:                                                                   │\n",
            "│  - Cybersecurity & privacy(Fields): Important knowledge areas for the        │\n",
            "│  self-custody specialist to protect Bitcoin and user information.            │\n",
            "│  - The Bitcoin Way(Company): A company looking for a Self-Custody Expert to  │\n",
            "│  join their team and work closely with clients.                              │\n",
            "│  - Bitcoin(Technology): A decentralized digital currency that the            │\n",
            "│  specialist should have deep technical knowledge of and strong people        │\n",
            "│  skills to explain.                                                          │\n",
            "│                                                                              │\n",
            "╰───────────────────────── Retrieval Time: 4010.27ms ──────────────────────────╯\n",
            "\n",
            "📋 Task: 5bea3ecb-08fd-4180-b600-4dcb93179ec9\n",
            "Assigned to: You are Tony Yabeck, working at The Bitcoin Way, and hiring for \n",
            "Bitcoin Self-Custody Specialist.\n",
            "Status: ✅ Completed\n",
            "├── 🧠 Memory Update Overall\n",
            "│   ├── ✅ Short Term Memory Memory Saved (1137.57ms)\n",
            "│   ├── ✅ Long Term Memory Memory Saved (11.43ms)\n",
            "│   └── ✅ Entity Memory Memory Saved (7081.24ms)\n",
            "├── ✅ Memory Retrieval Completed\n",
            "│   └── Sources Used\n",
            "│       ├── ✅ Long Term Memory (0.57ms)\n",
            "│       ├── ✅ Short Term Memory (1056.73ms)\n",
            "│       └── ✅ Entity Memory (2951.48ms)\n",
            "└── ✅ Knowledge Retrieval Completed╭────────────────────────────── 🤖 Agent Started ──────────────────────────────╮\n",
            "│                                                                              │\n",
            "│  Agent: Interview Coach                                                      │\n",
            "│                                                                              │\n",
            "│  Task: Give feedback to the user on its answer.                              │\n",
            "│                                                                              │\n",
            "╰──────────────────────────────────────────────────────────────────────────────╯\n",
            "\n",
            "🚀 Crew: crew\n",
            "├── 📋 Task: 5bea3ecb-08fd-4180-b600-4dcb93179ec9\n",
            "│   Assigned to: You are Tony Yabeck, working at The Bitcoin Way, and hiring for\n",
            "│   Bitcoin Self-Custody Specialist.\n",
            "│   Status: ✅ Completed\n",
            "│   ├── 🧠 Memory Update Overall\n",
            "│   │   ├── ✅ Short Term Memory Memory Saved (1137.57ms)\n",
            "│   │   ├── ✅ Long Term Memory Memory Saved (11.43ms)\n",
            "│   │   └── ✅ Entity Memory Memory Saved (7081.24ms)\n",
            "│   ├── ✅ Memory Retrieval Completed\n",
            "│   │   └── Sources Used\n",
            "│   │       ├── ✅ Long Term Memory (0.57ms)\n",
            "│   │       ├── ✅ Short Term Memory (1056.73ms)\n",
            "│   │       └── ✅ Entity Memory (2951.48ms)\n",
            "│   └── ✅ Knowledge Retrieval Completed\n",
            "└── 📋 Task: a9ad11a8-d4ec-43ce-83a8-4ee45f4b4383\n",
            "    Status: Executing Task...╭─────────────────────────── ✅ Agent Final Answer ────────────────────────────╮\n",
            "│                                                                              │\n",
            "│  Agent: Interview Coach                                                      │\n",
            "│                                                                              │\n",
            "│  Final Answer:                                                               │\n",
            "│  - **What was Good:**                                                        │\n",
            "│    - **Demonstrated Awareness:** You effectively highlighted your            │\n",
            "│  commitment to staying updated with the latest developments in Bitcoin,      │\n",
            "│  open-source tools, cybersecurity, and privacy. This shows your proactive    │\n",
            "│  approach and dedication to continuous learning, which is crucial in a       │\n",
            "│  rapidly evolving field like Bitcoin.                                        │\n",
            "│    - **Practical Application:** You provided a practical example of how you  │\n",
            "│  applied your knowledge to benefit clients or the community. This            │\n",
            "│  demonstrates your ability to not only understand complex concepts but also  │\n",
            "│  translate them into actionable strategies that provide real-world           │\n",
            "│  benefits.                                                                   │\n",
            "│                                                                              │\n",
            "│  - **How to Take it to the Next Level:**                                     │\n",
            "│    - **Specific Examples:** Include more specific examples or case studies   │\n",
            "│  that illustrate your involvement in projects or initiatives related to      │\n",
            "│  Bitcoin and cybersecurity. This will provide concrete evidence of your      │\n",
            "│  expertise and impact.                                                       │\n",
            "│    - **Quantifiable Outcomes:** Whenever possible, mention quantifiable      │\n",
            "│  outcomes or improvements that resulted from your actions. For instance,     │\n",
            "│  \"Implemented a new privacy protocol that reduced data breach incidents by   │\n",
            "│  30%.\"                                                                       │\n",
            "│    - **Collaboration and Influence:** Highlight any collaborative efforts    │\n",
            "│  or leadership roles you took on. This could include working with a team to  │\n",
            "│  implement new security measures or leading a workshop to educate others on  │\n",
            "│  self-custody best practices.                                                │\n",
            "│    - **Future-Forward Thinking:** Discuss any forward-thinking strategies    │\n",
            "│  or technologies you're currently exploring that could benefit The Bitcoin   │\n",
            "│  Way. This shows your potential to contribute innovative solutions and stay  │\n",
            "│  ahead of industry trends.                                                   │\n",
            "│                                                                              │\n",
            "│  By incorporating these elements, you'll not only showcase your technical    │\n",
            "│  expertise but also your ability to lead and innovate within the field.      │\n",
            "│  Keep pushing forward and let your passion for Bitcoin and cybersecurity     │\n",
            "│  shine through!                                                              │\n",
            "│                                                                              │\n",
            "╰──────────────────────────────────────────────────────────────────────────────╯\n",
            "\n"
          ]
        },
        {
          "output_type": "stream",
          "name": "stderr",
          "text": [
            "/usr/local/lib/python3.12/dist-packages/pydantic/main.py:463: UserWarning: Pydantic serializer warnings:\n",
            "  PydanticSerializationUnexpectedValue(Expected 9 fields but got 6: Expected `Message` - serialized value may not be as expected [input_value=Message(content='I now ca...: None}, annotations=[]), input_type=Message])\n",
            "  PydanticSerializationUnexpectedValue(Expected `StreamingChoices` - serialized value may not be as expected [input_value=Choices(finish_reason='st...ider_specific_fields={}), input_type=Choices])\n",
            "  return self.__pydantic_serializer__.to_python(\n",
            "/usr/local/lib/python3.12/dist-packages/pydantic/main.py:463: UserWarning: Pydantic serializer warnings:\n",
            "  PydanticSerializationUnexpectedValue(Expected 9 fields but got 6: Expected `Message` - serialized value may not be as expected [input_value=Message(content=None, rol...: None}, annotations=[]), input_type=Message])\n",
            "  PydanticSerializationUnexpectedValue(Expected `StreamingChoices` - serialized value may not be as expected [input_value=Choices(finish_reason='to...ider_specific_fields={}), input_type=Choices])\n",
            "  return self.__pydantic_serializer__.to_python(\n"
          ]
        },
        {
          "output_type": "stream",
          "name": "stdout",
          "text": [
            "🚀 Crew: crew\n",
            "├── 📋 Task: 5bea3ecb-08fd-4180-b600-4dcb93179ec9\n",
            "│   Assigned to: You are Tony Yabeck, working at The Bitcoin Way, and hiring for\n",
            "│   Bitcoin Self-Custody Specialist.\n",
            "│   Status: ✅ Completed\n",
            "│   ├── 🧠 Memory Update Overall\n",
            "│   │   ├── ✅ Short Term Memory Memory Saved (1137.57ms)\n",
            "│   │   ├── ✅ Long Term Memory Memory Saved (11.43ms)\n",
            "│   │   └── ✅ Entity Memory Memory Saved (7081.24ms)\n",
            "│   ├── ✅ Memory Retrieval Completed\n",
            "│   │   └── Sources Used\n",
            "│   │       ├── ✅ Long Term Memory (0.57ms)\n",
            "│   │       ├── ✅ Short Term Memory (1056.73ms)\n",
            "│   │       └── ✅ Entity Memory (2951.48ms)\n",
            "│   └── ✅ Knowledge Retrieval Completed\n",
            "└── 📋 Task: a9ad11a8-d4ec-43ce-83a8-4ee45f4b4383\n",
            "    Assigned to: Interview Coach\n",
            "    Status: ✅ Completed\n",
            "    └── 🧠 Memory Update Overall\n",
            "        ├── ✅ Short Term Memory Memory Saved (241.00ms)\n",
            "        ├── ✅ Long Term Memory Memory Saved (17.24ms)\n",
            "        └── ✅ Entity Memory Memory Saved (401.22ms)╭────────────────────────────── Task Completion ───────────────────────────────╮\n",
            "│                                                                              │\n",
            "│  Task Completed                                                              │\n",
            "│  Name: a9ad11a8-d4ec-43ce-83a8-4ee45f4b4383                                  │\n",
            "│  Agent: Interview Coach                                                      │\n",
            "│  Tool Args:                                                                  │\n",
            "│                                                                              │\n",
            "│                                                                              │\n",
            "╰──────────────────────────────────────────────────────────────────────────────╯\n",
            "\n",
            "╭────────────────────────────── Crew Completion ───────────────────────────────╮\n",
            "│                                                                              │\n",
            "│  Crew Execution Completed                                                    │\n",
            "│  Name: crew                                                                  │\n",
            "│  ID: 1f3cc4ae-25ba-4af9-a6eb-25b1cfae206c                                    │\n",
            "│  Tool Args:                                                                  │\n",
            "│  Final Output: - **What was Good:**                                          │\n",
            "│    - **Demonstrated Awareness:** You effectively highlighted your            │\n",
            "│  commitment to staying updated with the latest developments in Bitcoin,      │\n",
            "│  open-source tools, cybersecurity, and privacy. This shows your proactive    │\n",
            "│  approach and dedication to continuous learning, which is crucial in a       │\n",
            "│  rapidly evolving field like Bitcoin.                                        │\n",
            "│    - **Practical Application:** You provided a practical example of how you  │\n",
            "│  applied your knowledge to benefit clients or the community. This            │\n",
            "│  demonstrates your ability to not only understand complex concepts but also  │\n",
            "│  translate them into actionable strategies that provide real-world           │\n",
            "│  benefits.                                                                   │\n",
            "│                                                                              │\n",
            "│  - **How to Take it to the Next Level:**                                     │\n",
            "│    - **Specific Examples:** Include more specific examples or case studies   │\n",
            "│  that illustrate your involvement in projects or initiatives related to      │\n",
            "│  Bitcoin and cybersecurity. This will provide concrete evidence of your      │\n",
            "│  expertise and impact.                                                       │\n",
            "│    - **Quantifiable Outcomes:** Whenever possible, mention quantifiable      │\n",
            "│  outcomes or improvements that resulted from your actions. For instance,     │\n",
            "│  \"Implemented a new privacy protocol that reduced data breach incidents by   │\n",
            "│  30%.\"                                                                       │\n",
            "│    - **Collaboration and Influence:** Highlight any collaborative efforts    │\n",
            "│  or leadership roles you took on. This could include working with a team to  │\n",
            "│  implement new security measures or leading a workshop to educate others on  │\n",
            "│  self-custody best practices.                                                │\n",
            "│    - **Future-Forward Thinking:** Discuss any forward-thinking strategies    │\n",
            "│  or technologies you're currently exploring that could benefit The Bitcoin   │\n",
            "│  Way. This shows your potential to contribute innovative solutions and stay  │\n",
            "│  ahead of industry trends.                                                   │\n",
            "│                                                                              │\n",
            "│  By incorporating these elements, you'll not only showcase your technical    │\n",
            "│  expertise but also your ability to lead and innovate within the field.      │\n",
            "│  Keep pushing forward and let your passion for Bitcoin and cybersecurity     │\n",
            "│  shine through!                                                              │\n",
            "│                                                                              │\n",
            "│                                                                              │\n",
            "╰──────────────────────────────────────────────────────────────────────────────╯\n",
            "\n"
          ]
        },
        {
          "output_type": "error",
          "ename": "AttributeError",
          "evalue": "'NoneType' object has no attribute 'raw'",
          "traceback": [
            "\u001b[0;31m---------------------------------------------------------------------------\u001b[0m",
            "\u001b[0;31mAttributeError\u001b[0m                            Traceback (most recent call last)",
            "\u001b[0;32m/tmp/ipython-input-1145249304.py\u001b[0m in \u001b[0;36m<cell line: 0>\u001b[0;34m()\u001b[0m\n\u001b[1;32m     19\u001b[0m \u001b[0;34m\u001b[0m\u001b[0m\n\u001b[1;32m     20\u001b[0m \u001b[0;31m# Store each question\u001b[0m\u001b[0;34m\u001b[0m\u001b[0;34m\u001b[0m\u001b[0m\n\u001b[0;32m---> 21\u001b[0;31m \u001b[0minterview_questions\u001b[0m\u001b[0;34m.\u001b[0m\u001b[0mappend\u001b[0m\u001b[0;34m(\u001b[0m\u001b[0mresult\u001b[0m\u001b[0;34m.\u001b[0m\u001b[0mtasks_output\u001b[0m\u001b[0;34m[\u001b[0m\u001b[0;36m0\u001b[0m\u001b[0;34m]\u001b[0m\u001b[0;34m)\u001b[0m\u001b[0;34m.\u001b[0m\u001b[0mraw\u001b[0m\u001b[0;34m\u001b[0m\u001b[0;34m\u001b[0m\u001b[0m\n\u001b[0m\u001b[1;32m     22\u001b[0m \u001b[0minterview_content\u001b[0m \u001b[0;34m=\u001b[0m \u001b[0;34m' '\u001b[0m\u001b[0;34m.\u001b[0m\u001b[0mjoin\u001b[0m\u001b[0;34m(\u001b[0m\u001b[0minterview_questions\u001b[0m\u001b[0;34m)\u001b[0m\u001b[0;34m\u001b[0m\u001b[0;34m\u001b[0m\u001b[0m\n\u001b[1;32m     23\u001b[0m \u001b[0mstring_source\u001b[0m \u001b[0;34m=\u001b[0m \u001b[0mStringKnowledgeSource\u001b[0m\u001b[0;34m(\u001b[0m\u001b[0mcontent\u001b[0m\u001b[0;34m=\u001b[0m\u001b[0minterview_content\u001b[0m\u001b[0;34m)\u001b[0m\u001b[0;34m\u001b[0m\u001b[0;34m\u001b[0m\u001b[0m\n",
            "\u001b[0;31mAttributeError\u001b[0m: 'NoneType' object has no attribute 'raw'"
          ]
        }
      ]
    },
    {
      "cell_type": "markdown",
      "source": [
        "# Check Output"
      ],
      "metadata": {
        "id": "Mm4iw_msqZGd"
      }
    },
    {
      "cell_type": "code",
      "source": [
        "display(Markdown(result.tasks_output[1].raw))"
      ],
      "metadata": {
        "colab": {
          "base_uri": "https://localhost:8080/",
          "height": 348
        },
        "id": "YRC3h5WxqYr8",
        "outputId": "c580390e-8a0f-4b6b-de96-b4696e35b5f4"
      },
      "execution_count": null,
      "outputs": [
        {
          "output_type": "display_data",
          "data": {
            "text/plain": [
              "<IPython.core.display.Markdown object>"
            ],
            "text/markdown": "- **What was Good:**\n  - **Demonstrated Awareness:** You effectively highlighted your commitment to staying updated with the latest developments in Bitcoin, open-source tools, cybersecurity, and privacy. This shows your proactive approach and dedication to continuous learning, which is crucial in a rapidly evolving field like Bitcoin.\n  - **Practical Application:** You provided a practical example of how you applied your knowledge to benefit clients or the community. This demonstrates your ability to not only understand complex concepts but also translate them into actionable strategies that provide real-world benefits.\n\n- **How to Take it to the Next Level:**\n  - **Specific Examples:** Include more specific examples or case studies that illustrate your involvement in projects or initiatives related to Bitcoin and cybersecurity. This will provide concrete evidence of your expertise and impact.\n  - **Quantifiable Outcomes:** Whenever possible, mention quantifiable outcomes or improvements that resulted from your actions. For instance, \"Implemented a new privacy protocol that reduced data breach incidents by 30%.\"\n  - **Collaboration and Influence:** Highlight any collaborative efforts or leadership roles you took on. This could include working with a team to implement new security measures or leading a workshop to educate others on self-custody best practices.\n  - **Future-Forward Thinking:** Discuss any forward-thinking strategies or technologies you're currently exploring that could benefit The Bitcoin Way. This shows your potential to contribute innovative solutions and stay ahead of industry trends.\n\nBy incorporating these elements, you'll not only showcase your technical expertise but also your ability to lead and innovate within the field. Keep pushing forward and let your passion for Bitcoin and cybersecurity shine through!"
          },
          "metadata": {}
        }
      ]
    },
    {
      "cell_type": "markdown",
      "source": [],
      "metadata": {
        "id": "AkPqmWXWHNa0"
      }
    }
  ]
}